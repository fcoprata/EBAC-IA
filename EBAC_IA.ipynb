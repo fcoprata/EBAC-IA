{
  "nbformat": 4,
  "nbformat_minor": 0,
  "metadata": {
    "colab": {
      "name": "EBAC-IA.ipynb",
      "provenance": []
    },
    "kernelspec": {
      "name": "python3",
      "display_name": "Python 3"
    },
    "language_info": {
      "name": "python"
    }
  },
  "cells": [
    {
      "cell_type": "code",
      "metadata": {
        "id": "UzTuryiZKzS7"
      },
      "source": [
        "#Importando Bibliotecas\n",
        "import pandas as pd\n",
        "#Tratamento de dados\n",
        "df = pd.read_csv(\"KAG_conversion_data.csv\")"
      ],
      "execution_count": null,
      "outputs": []
    },
    {
      "cell_type": "markdown",
      "metadata": {
        "id": "RirRnXdDX8-z"
      },
      "source": [
        "Dicionario de dados \n",
        "\n",
        "1.) ad_id: an unique ID for each ad.\n",
        "\n",
        "2.) xyzcampaignid: an ID associated with each ad campaign of XYZ company.\n",
        "\n",
        "3.) fbcampaignid: an ID associated with how Facebook tracks each campaign.\n",
        "\n",
        "4.) age: age of the person to whom the ad is shown.\n",
        "\n",
        "5.) gender: gender of the person to whim the add is shown\n",
        "\n",
        "6.) interest: a code specifying the category to which the person’s interest belongs (interests are as mentioned in the person’s Facebook public profile).\n",
        "\n",
        "7.) Impressions: the number of times the ad was shown.\n",
        "\n",
        "8.) Clicks: number of clicks on for that ad.\n",
        "\n",
        "9.) Spent: Amount paid by company xyz to Facebook, to show that ad.\n",
        "\n",
        "10.) Total conversion: Total number of people who enquired about the product after seeing the ad.\n",
        "\n",
        "11.) Approved conversion: Total number of people who bought the product after seeing the ad."
      ]
    },
    {
      "cell_type": "code",
      "metadata": {
        "id": "FNcbvvEBWsxO"
      },
      "source": [
        "df.head() #lista default das 5 primeiras linhas"
      ],
      "execution_count": null,
      "outputs": []
    },
    {
      "cell_type": "code",
      "metadata": {
        "id": "IK-c0GttWvWu"
      },
      "source": [
        "df.tail() #lista default das 5 ultimas linhas"
      ],
      "execution_count": null,
      "outputs": []
    },
    {
      "cell_type": "code",
      "metadata": {
        "id": "HAqCF6vcWyLE"
      },
      "source": [
        "df.columns #nome das colunas"
      ],
      "execution_count": null,
      "outputs": []
    },
    {
      "cell_type": "code",
      "metadata": {
        "id": "lYW3b2zFW2CJ"
      },
      "source": [
        "df.index #indices "
      ],
      "execution_count": null,
      "outputs": []
    },
    {
      "cell_type": "code",
      "metadata": {
        "id": "-Sdd3IdmW3xS"
      },
      "source": [
        "linhas, colunas = df.shape #analisando a quantidade de linhas e colunas\n",
        "print(f\"linhas:{linhas} e colunas:{colunas}\") #mostrando a quantidade de linhas e colunas"
      ],
      "execution_count": null,
      "outputs": []
    },
    {
      "cell_type": "code",
      "metadata": {
        "id": "gR_9MNU2W6W7"
      },
      "source": [
        "df[\"interest\"] #vendo apenas uma coluna"
      ],
      "execution_count": null,
      "outputs": []
    },
    {
      "cell_type": "code",
      "metadata": {
        "id": "lx8J_OegXCWL"
      },
      "source": [
        "df.info() #resumo da matriz"
      ],
      "execution_count": null,
      "outputs": []
    },
    {
      "cell_type": "code",
      "metadata": {
        "id": "XC9haGdxXDcS"
      },
      "source": [
        "print(type(df))"
      ],
      "execution_count": null,
      "outputs": []
    },
    {
      "cell_type": "code",
      "metadata": {
        "id": "3mkm0dSIX0L1"
      },
      "source": [
        ""
      ],
      "execution_count": null,
      "outputs": []
    }
  ]
}